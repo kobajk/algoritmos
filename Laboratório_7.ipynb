{
  "nbformat": 4,
  "nbformat_minor": 0,
  "metadata": {
    "colab": {
      "provenance": [],
      "authorship_tag": "ABX9TyPBlQtNnyi0T5itDcs4dl9y",
      "include_colab_link": true
    },
    "kernelspec": {
      "name": "python3",
      "display_name": "Python 3"
    },
    "language_info": {
      "name": "python"
    }
  },
  "cells": [
    {
      "cell_type": "markdown",
      "metadata": {
        "id": "view-in-github",
        "colab_type": "text"
      },
      "source": [
        "<a href=\"https://colab.research.google.com/github/kobajk/algoritmos/blob/Laborat%C3%B3rios/Laborat%C3%B3rio_7.ipynb\" target=\"_parent\"><img src=\"https://colab.research.google.com/assets/colab-badge.svg\" alt=\"Open In Colab\"/></a>"
      ]
    },
    {
      "cell_type": "markdown",
      "source": [
        "**LEI DE FORMAÇÃO DE SEQUÊNCIA**"
      ],
      "metadata": {
        "id": "XiYsy8Lt91jy"
      }
    },
    {
      "cell_type": "code",
      "execution_count": null,
      "metadata": {
        "colab": {
          "base_uri": "https://localhost:8080/"
        },
        "id": "DVYPA7fJ9nMN",
        "outputId": "5332e4ca-3462-40b2-c28a-9ecb77842de8"
      },
      "outputs": [
        {
          "output_type": "stream",
          "name": "stdout",
          "text": [
            " Informe o valor de n - número de termos da sequência: 5\n",
            "1\n",
            "4\n",
            "7\n",
            "10\n",
            "13\n"
          ]
        }
      ],
      "source": [
        "n = int(input(' Informe o valor de n - número de termos da sequência: '))\n",
        "while n <= 0:\n",
        "  print(' Valor inválido: Menor ou igual a zero')\n",
        "  n = int(input(' Informe o valor de n - número de termos da sequência: '))\n",
        "\n",
        "for i in range (1,n+1,1):\n",
        "  p = 3 * i - 2\n",
        "  print(p)"
      ]
    },
    {
      "cell_type": "code",
      "source": [
        "n = int(input(' Informe o valor de n - número de termos da sequência: '))\n",
        "while n <= 0:\n",
        "  print(' Valor inválido: Menor ou igual a zero')\n",
        "  n = int(input(' Informe o valor de n - número de termos da sequência: '))\n",
        "\n",
        "x = float(input(' Informe o valor de x: '))\n",
        "while x == 0:\n",
        "  print(' Valor inválido: Menor ou igual a zero')\n",
        "  x = float(input(' Informe o valor de x: '))\n",
        "\n",
        "for i in range (1,n+1,1):\n",
        "  p = (i + 4)*x**i\n",
        "  print(p)"
      ],
      "metadata": {
        "colab": {
          "base_uri": "https://localhost:8080/"
        },
        "id": "hnxkin3cBPf_",
        "outputId": "61e5366f-6063-4ca8-fd4a-4394ed9a06e6"
      },
      "execution_count": null,
      "outputs": [
        {
          "output_type": "stream",
          "name": "stdout",
          "text": [
            " Informe o valor de n - número de termos da sequência: -1\n",
            " Valor inválido: Menor ou igual a zero\n",
            " Informe o valor de n - número de termos da sequência: 5\n",
            " Informe o valor de x: -1\n",
            "-5.0\n",
            "6.0\n",
            "-7.0\n",
            "8.0\n",
            "-9.0\n"
          ]
        }
      ]
    },
    {
      "cell_type": "code",
      "source": [
        "import math as m\n",
        "\n",
        "n = int(input(' Informe o valor de n - número de termos da sequência: '))\n",
        "while n <= 0:\n",
        "  print(' Valor inválido: Menor ou igual a zero')\n",
        "  n = int(input(' Informe o valor de n - número de termos da sequência: '))\n",
        "\n",
        "x = float(input(' Informe o valor de x: '))\n",
        "while x == 0:\n",
        "  print(' Valor inválido: Menor ou igual a zero')\n",
        "  x = float(input(' Informe o valor de x: '))\n",
        "\n",
        "for i in range (1,n+1,1):\n",
        "  p = (3*i-1) * m.pow(x,0.4*i) / (i+2)\n",
        "  print(p)"
      ],
      "metadata": {
        "colab": {
          "base_uri": "https://localhost:8080/"
        },
        "id": "mhoTImgnCwR2",
        "outputId": "70f120eb-ad6b-4657-bc39-37e482371d60"
      },
      "execution_count": null,
      "outputs": [
        {
          "output_type": "stream",
          "name": "stdout",
          "text": [
            " Informe o valor de n - número de termos da sequência: 5\n",
            " Informe o valor de x: 1\n",
            "0.6666666666666666\n",
            "1.25\n",
            "1.6\n",
            "1.8333333333333333\n",
            "2.0\n"
          ]
        }
      ]
    },
    {
      "cell_type": "code",
      "source": [
        "import math as m\n",
        "\n",
        "n = int(input(' Informe o valor de n - número de termos da sequência: '))\n",
        "while n <= 0:\n",
        "  print(' Valor inválido: Menor ou igual a zero')\n",
        "  n = int(input(' Informe o valor de n - número de termos da sequência: '))\n",
        "\n",
        "x = float(input(' Informe o valor de x: '))\n",
        "while x == 0:\n",
        "  print(' Valor inválido: Menor ou igual a zero')\n",
        "  x = float(input(' Informe o valor de x: '))\n",
        "\n",
        "for i in range (1,n+1,1):\n",
        "  p = m.pow(x,i*2-1)\n",
        "  print(p)"
      ],
      "metadata": {
        "colab": {
          "base_uri": "https://localhost:8080/"
        },
        "id": "s72caHdYDoft",
        "outputId": "dcb2959a-122f-4863-a366-1a4c3d76b39d"
      },
      "execution_count": null,
      "outputs": [
        {
          "output_type": "stream",
          "name": "stdout",
          "text": [
            " Informe o valor de n - número de termos da sequência: 5\n",
            " Informe o valor de x: 2\n",
            "2.0\n",
            "8.0\n",
            "32.0\n",
            "128.0\n",
            "512.0\n"
          ]
        }
      ]
    },
    {
      "cell_type": "code",
      "source": [
        "import math as m\n",
        "\n",
        "n = int(input(' Informe o valor de n - número de termos da sequência: '))\n",
        "while n <= 0:\n",
        "  print(' Valor inválido: Menor ou igual a zero')\n",
        "  n = int(input(' Informe o valor de n - número de termos da sequência: '))\n",
        "\n",
        "x = float(input(' Informe o valor de x: '))\n",
        "while x <= 0 or x >= 1:\n",
        "  print(' Valor inválido de x')\n",
        "  x = float(input(' Informe o valor de x: '))\n",
        "\n",
        "for i in range (1,n+1,1):\n",
        "  p = ((3 * i - 2) / (4 * i - 1)) * m.pow(x, i * 0.5 + 0.5)\n",
        "  print(p)"
      ],
      "metadata": {
        "colab": {
          "base_uri": "https://localhost:8080/"
        },
        "id": "rKqPM1mYFNSU",
        "outputId": "d228ad44-9846-409e-8c8e-03d2b97dad4f"
      },
      "execution_count": null,
      "outputs": [
        {
          "output_type": "stream",
          "name": "stdout",
          "text": [
            " Informe o valor de n - número de termos da sequência: 3\n",
            " Informe o valor de x: 0.1\n",
            "0.03333333333333333\n",
            "0.018070158058105027\n",
            "0.006363636363636365\n"
          ]
        }
      ]
    },
    {
      "cell_type": "markdown",
      "source": [
        "**LEI DE FORMAÇÃO DE SOMA**"
      ],
      "metadata": {
        "id": "oo8Jr03_Hx2P"
      }
    },
    {
      "cell_type": "code",
      "source": [
        "import math as m\n",
        "\n",
        "n = int(input(' Informe o valor de n - número de termos da sequência: '))\n",
        "while n <= 0:\n",
        "  print(' Valor inválido: Menor ou igual a zero')\n",
        "  n = int(input(' Informe o valor de n - número de termos da sequência: '))\n",
        "\n",
        "x = float(input(' Informe o valor de x: '))\n",
        "\n",
        "s = 0\n",
        "\n",
        "for i in range (1,n+1,1):\n",
        "  s = s + (3 * i - 1) * m.pow(x,i)\n",
        "print(' O valor da soma é: ', s)"
      ],
      "metadata": {
        "colab": {
          "base_uri": "https://localhost:8080/"
        },
        "id": "-S_C4zi8H3qm",
        "outputId": "95597739-2bd5-44c8-d27b-c30fdb87a1ea"
      },
      "execution_count": null,
      "outputs": [
        {
          "output_type": "stream",
          "name": "stdout",
          "text": [
            " Informe o valor de n - número de termos da sequência: 3\n",
            " Informe o valor de x: 1\n",
            " O valor da soma é:  15.0\n"
          ]
        }
      ]
    },
    {
      "cell_type": "code",
      "source": [
        "import math as m\n",
        "\n",
        "n = int(input(' Informe o valor de n - número de termos da sequência: '))\n",
        "while n <= 0:\n",
        "  print(' Valor inválido: Menor ou igual a zero')\n",
        "  n = int(input(' Informe o valor de n - número de termos da sequência: '))\n",
        "\n",
        "x = float(input(' Informe o valor de x: '))\n",
        "\n",
        "s = 0\n",
        "\n",
        "for i in range (1,n+1,1):\n",
        "  s = s + ((3 * i - 1 * m.pow(x,i))/(i+2))\n",
        "print(' O valor da soma é: ', s)"
      ],
      "metadata": {
        "colab": {
          "base_uri": "https://localhost:8080/"
        },
        "id": "ufLdIJ3eKObT",
        "outputId": "09120207-ea5d-4717-8077-459c2a75a5b2"
      },
      "execution_count": null,
      "outputs": [
        {
          "output_type": "stream",
          "name": "stdout",
          "text": [
            " Informe o valor de n - número de termos da sequência: 3\n",
            " Informe o valor de x: 1\n",
            " O valor da soma é:  3.5166666666666666\n"
          ]
        }
      ]
    },
    {
      "cell_type": "code",
      "source": [
        "import math as m\n",
        "\n",
        "n = int(input(' Informe a quantidade de resistores em paralelo: '))\n",
        "while n <= 1:\n",
        "  print(' Valor inválido: Menor ou igual a zero')\n",
        "  n = int(input(' Informe a quantidade de resistores em paralelo: '))\n",
        "\n",
        "s = 0\n",
        "\n",
        "for i in range (1,n+1,1):\n",
        "  r = float(input(' Informe o valor do resistor %.f : ' %i))\n",
        "  while r <= 0:\n",
        "    print(' Valor inválido: Menor ou igual a zero')\n",
        "    r = float(input(' Informe o valor do resistor %.f : ' %i))\n",
        "  s = s + 1/r\n",
        "print(' O valor da resistência equivalente é: ', 1/s)"
      ],
      "metadata": {
        "colab": {
          "base_uri": "https://localhost:8080/"
        },
        "id": "Wi4wEVC-LThg",
        "outputId": "9eff8b06-494e-4a95-d158-828e22cca694"
      },
      "execution_count": null,
      "outputs": [
        {
          "output_type": "stream",
          "name": "stdout",
          "text": [
            " Informe a quantidade de resistores em paralelo: 5\n",
            " Informe o valor da resistência 1 é :2\n",
            " Informe o valor da resistência 2 é :3\n",
            " Informe o valor da resistência 3 é :4\n",
            " Informe o valor da resistência 4 é :5\n",
            " Informe o valor da resistência 5 é :7\n",
            " O valor da resistência equivalente é:  0.7011686143572622\n"
          ]
        }
      ]
    },
    {
      "cell_type": "markdown",
      "source": [
        "**TAREFA COMPLEMENTAR**"
      ],
      "metadata": {
        "id": "Sf0H1cy5anbX"
      }
    },
    {
      "cell_type": "code",
      "source": [
        "n = int(input(' Informe a quantidade de termos que você deseja somar: '))\n",
        "while n <= 0:\n",
        "  print(' Quantidade inválida: Igual ou menor que zero')\n",
        "  n = int(input(' Informe a quantidade de termos que você deseja somar: '))\n",
        "\n",
        "s = 0\n",
        "\n",
        "for i in range (1, n+1, 1):\n",
        "  p = i / (2 * i - 1)\n",
        "  s = s + p\n",
        "\n",
        "print (' O valor da soma de termos é: ', s)"
      ],
      "metadata": {
        "colab": {
          "base_uri": "https://localhost:8080/"
        },
        "id": "tH-fHRr4ap0E",
        "outputId": "bd2ca7e3-eb87-4ba8-fd7c-fe5572385eee"
      },
      "execution_count": null,
      "outputs": [
        {
          "output_type": "stream",
          "name": "stdout",
          "text": [
            " Informe a quantidade de termos que você deseja somar: 2\n",
            "1.6666666666666665\n"
          ]
        }
      ]
    },
    {
      "cell_type": "code",
      "source": [
        "import math as m\n",
        "\n",
        "n = int(input(' Informe a quantidade de termos que você deseja somar: '))\n",
        "while n <= 0:\n",
        "  print(' Quantidade inválida: Igual ou menor que zero')\n",
        "  n = int(input(' Informe a quantidade de termos que você deseja somar: '))\n",
        "\n",
        "x = float(input(' Informe o valor de x: '))\n",
        "\n",
        "s = 0\n",
        "\n",
        "for i in range (1, n+1, 1):\n",
        "  s = s + ((3 * i + 1)*(m.pow(x,i))/(2*i+3))\n",
        "\n",
        "print (' O valor da soma de termos é: ', s)\n"
      ],
      "metadata": {
        "colab": {
          "base_uri": "https://localhost:8080/"
        },
        "id": "VOLuG7JLcKDo",
        "outputId": "c2502a8b-23c8-4477-c445-057e5f9c4757"
      },
      "execution_count": null,
      "outputs": [
        {
          "output_type": "stream",
          "name": "stdout",
          "text": [
            " Informe a quantidade de termos que você deseja somar: 2\n",
            " Informe o valor de x: 1\n",
            "1.8\n"
          ]
        }
      ]
    }
  ]
}