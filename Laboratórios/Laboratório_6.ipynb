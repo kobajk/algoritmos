{
  "nbformat": 4,
  "nbformat_minor": 0,
  "metadata": {
    "colab": {
      "provenance": [],
      "authorship_tag": "ABX9TyOaytIehAh00cn06OteZXHP",
      "include_colab_link": true
    },
    "kernelspec": {
      "name": "python3",
      "display_name": "Python 3"
    },
    "language_info": {
      "name": "python"
    }
  },
  "cells": [
    {
      "cell_type": "markdown",
      "metadata": {
        "id": "view-in-github",
        "colab_type": "text"
      },
      "source": [
        "<a href=\"https://colab.research.google.com/github/kobajk/algoritmos/blob/Laborat%C3%B3rios/Laborat%C3%B3rio_6.ipynb\" target=\"_parent\"><img src=\"https://colab.research.google.com/assets/colab-badge.svg\" alt=\"Open In Colab\"/></a>"
      ]
    },
    {
      "cell_type": "markdown",
      "source": [
        "**EX 1**"
      ],
      "metadata": {
        "id": "PCHLcv239IDc"
      }
    },
    {
      "cell_type": "code",
      "execution_count": null,
      "metadata": {
        "id": "Vvq2UYCi21LK"
      },
      "outputs": [],
      "source": [
        "n = int(input(' Informe a quantidade de triângulos que deseja calcular: '))\n",
        "while n < 1:\n",
        "  print('Valor incorreto')\n",
        "  n = int(input(' Informe a quantidade de triângulos que deseja calcular: '))\n",
        "\n",
        "i = 1\n",
        "\n",
        "while i <= n:\n",
        "  print('\\n Triângulo *',i,'*')\n",
        "  b = float(input(' Informe o valor da base \"b\": '))\n",
        "  while b <= 0:\n",
        "    print(' Valor inválido: Menor ou igual à zero')\n",
        "    b = float(input(' Informe o valor da base \"b\": '))\n",
        "\n",
        "  h = float(input(' Informe o valor da altura \"h\": '))\n",
        "  while h <= 0:\n",
        "    print(' Valor inválido: Menor ou igual à zero')\n",
        "    h = float(input(' Informe o valor da altura \"h\": '))\n",
        "\n",
        "  a = b*h/2\n",
        "  print(' O valor da área é: ', a)\n",
        "  print(' O valor da área é: %.2f' %a)\n",
        "\n",
        "  i = i + 1\n",
        "\n"
      ]
    },
    {
      "cell_type": "code",
      "source": [
        "n = int(input(' Informe a quantidade de triângulos que deseja calcular: '))\n",
        "while n < 1:\n",
        "  print('Valor incorreto')\n",
        "  n = int(input(' Informe a quantidade de triângulos que deseja calcular: '))\n",
        "\n",
        "for i in range (1 , 21, 1):\n",
        "  print('\\n Triângulo *',i,'*')\n",
        "  b = float(input(' Informe o valor da base \"b\": '))\n",
        "  while b <= 0:\n",
        "    print(' Valor inválido: Menor ou igual à zero')\n",
        "    b = float(input(' Informe o valor da base \"b\": '))\n",
        "\n",
        "  h = float(input(' Informe o valor da altura \"h\": '))\n",
        "  while h <= 0:\n",
        "    print(' Valor inválido: Menor ou igual à zero')\n",
        "    h = float(input(' Informe o valor da altura \"h\": '))\n",
        "\n",
        "  a = b*h/2\n",
        "  print(' O valor da área é: ', a)\n",
        "  print(' O valor da área é: %.2f' %a)\n"
      ],
      "metadata": {
        "colab": {
          "base_uri": "https://localhost:8080/"
        },
        "id": "y97hei2y7F6-",
        "outputId": "66a9eb02-c7c9-42df-ebb4-bed6e4a884e9"
      },
      "execution_count": null,
      "outputs": [
        {
          "output_type": "stream",
          "name": "stdout",
          "text": [
            " Informe a quantidade de triângulos que deseja calcular: 2\n",
            "\n",
            " Triângulo * 0 *\n",
            " Informe o valor da base \"b\": 1\n",
            " Informe o valor da altura \"h\": 1\n",
            " O valor da área é:  0.5\n",
            " O valor da área é: 0.50\n",
            "\n",
            " Triângulo * 1 *\n",
            " Informe o valor da base \"b\": 2\n",
            " Informe o valor da altura \"h\": 2\n",
            " O valor da área é:  2.0\n",
            " O valor da área é: 2.00\n"
          ]
        }
      ]
    },
    {
      "cell_type": "code",
      "source": [
        "for i in range (1 , 21, 1):\n",
        "  print('\\n Triângulo *',i,'*')\n",
        "  b = float(input(' Informe o valor da base \"b\": '))\n",
        "  while b <= 0:\n",
        "    print(' Valor inválido: Menor ou igual à zero')\n",
        "    b = float(input(' Informe o valor da base \"b\": '))\n",
        "\n",
        "  h = float(input(' Informe o valor da altura \"h\": '))\n",
        "  while h <= 0:\n",
        "    print(' Valor inválido: Menor ou igual à zero')\n",
        "    h = float(input(' Informe o valor da altura \"h\": '))\n",
        "\n",
        "  a = b*h/2\n",
        "  print(' O valor da área é: ', a)\n",
        "  print(' O valor da área é: %.2f' %a)\n"
      ],
      "metadata": {
        "id": "EmgO-_c08ptT"
      },
      "execution_count": null,
      "outputs": []
    },
    {
      "cell_type": "markdown",
      "source": [
        "**Ex 2**"
      ],
      "metadata": {
        "id": "D2NVmtSC9dWb"
      }
    },
    {
      "cell_type": "code",
      "source": [
        "i = 1\n",
        "\n",
        "while i <= 4:\n",
        "  print(i)\n",
        "  i = i + 1"
      ],
      "metadata": {
        "colab": {
          "base_uri": "https://localhost:8080/"
        },
        "id": "h3NAKDz69HB7",
        "outputId": "fdef2d0f-803e-486d-e0d1-9d7ccf35ff5c"
      },
      "execution_count": null,
      "outputs": [
        {
          "output_type": "stream",
          "name": "stdout",
          "text": [
            "1\n",
            "2\n",
            "3\n",
            "4\n"
          ]
        }
      ]
    },
    {
      "cell_type": "code",
      "source": [
        "for i in range (1,5,1):\n",
        "  print(i)"
      ],
      "metadata": {
        "colab": {
          "base_uri": "https://localhost:8080/"
        },
        "id": "6FgIS-Qc9ryz",
        "outputId": "70a13b6b-2f78-4ef5-e855-02cd5d72e562"
      },
      "execution_count": null,
      "outputs": [
        {
          "output_type": "stream",
          "name": "stdout",
          "text": [
            "1\n",
            "2\n",
            "3\n",
            "4\n"
          ]
        }
      ]
    },
    {
      "cell_type": "code",
      "source": [
        "i = 20\n",
        "\n",
        "while i <= 26:\n",
        "  print(i)\n",
        "  i = i + 2"
      ],
      "metadata": {
        "id": "Hhe9aMft-YsK"
      },
      "execution_count": null,
      "outputs": []
    },
    {
      "cell_type": "code",
      "source": [
        "for i in range (20, 27, 2):\n",
        "  print(i)"
      ],
      "metadata": {
        "colab": {
          "base_uri": "https://localhost:8080/"
        },
        "id": "DC1bUM9e-5LR",
        "outputId": "98352409-367b-486c-efee-3a78598b04d2"
      },
      "execution_count": null,
      "outputs": [
        {
          "output_type": "stream",
          "name": "stdout",
          "text": [
            "20\n",
            "22\n",
            "24\n",
            "26\n"
          ]
        }
      ]
    },
    {
      "cell_type": "code",
      "source": [
        "i = 0\n",
        "\n",
        "while i >= -2:\n",
        "  print(i)\n",
        "  i = i - 1"
      ],
      "metadata": {
        "colab": {
          "base_uri": "https://localhost:8080/"
        },
        "id": "-VRDT88E_Ghh",
        "outputId": "bb7e5fed-6dc9-45eb-8e8b-6fb6773a8add"
      },
      "execution_count": null,
      "outputs": [
        {
          "output_type": "stream",
          "name": "stdout",
          "text": [
            "0\n",
            "-1\n",
            "-2\n"
          ]
        }
      ]
    },
    {
      "cell_type": "code",
      "source": [
        "for i in range (0,-3,-1):\n",
        "  print(i)"
      ],
      "metadata": {
        "colab": {
          "base_uri": "https://localhost:8080/"
        },
        "id": "TyV1AKdU_jeh",
        "outputId": "0aedb3ce-f137-4c62-da9f-0698d5836ad4"
      },
      "execution_count": null,
      "outputs": [
        {
          "output_type": "stream",
          "name": "stdout",
          "text": [
            "0\n",
            "-1\n",
            "-2\n"
          ]
        }
      ]
    },
    {
      "cell_type": "markdown",
      "source": [
        "**Ex 3**"
      ],
      "metadata": {
        "id": "OccTI6uP_sd5"
      }
    },
    {
      "cell_type": "code",
      "source": [
        "import math as m\n",
        "\n",
        "n = int(input(' Informe a quantidade de cálculos que deseja realizar: '))\n",
        "while n <= 0:\n",
        "  print(' Opção inválida')\n",
        "  n = int(input(' Informe a quantidade de cálculos que deseja realizar: '))\n",
        "\n",
        "for i in range (1 ,n+1, 1):\n",
        "  r = float(input(' Informe o valor do raio do cílindro: '))\n",
        "  while r <= 0:\n",
        "    print('\\n O valor informado é inválido')\n",
        "    r = float(input('Informe o valor do raio do cílindro: '))\n",
        "\n",
        "  h2 = float(input(' Informe o valor da altura h2: '))\n",
        "  while h2 <= 0:\n",
        "    print('\\n O valor informado é inválido')\n",
        "    h2 = float(input(' Informe o valor da altura h2: '))\n",
        "\n",
        "  h1 = float(input(' Informe o valor da altura h1: '))\n",
        "  while h1 >= h2 or h1 <= 0:\n",
        "    print('\\n O valor informado é inválido')\n",
        "    h1 = float(input(' Informe o valor da altura h1: '))\n",
        "\n",
        "  A = m.pi * r * (h1 + h2)\n",
        "\n",
        "  V = m.pi * r**2 * ((h1 + h2)/2)\n",
        "\n",
        "  print('\\n A área lateral é: ', A)\n",
        "  print('\\n O volume do cilindro é: ', V)"
      ],
      "metadata": {
        "id": "C0Itn-nwBCFk",
        "colab": {
          "base_uri": "https://localhost:8080/"
        },
        "outputId": "d77968f0-0c06-4b48-fd39-1b0dacd46499"
      },
      "execution_count": null,
      "outputs": [
        {
          "output_type": "stream",
          "name": "stdout",
          "text": [
            " Informe a quantidade de cálculos que deseja realizar: 2\n",
            " Informe o valor do raio do cílindro: 1\n",
            " Informe o valor da altura h2: 1\n",
            " Informe o valor da altura h1: 1\n",
            "\n",
            " O valor informado é inválido\n",
            " Informe o valor da altura h1: 0.5\n",
            "\n",
            " A área lateral é:  4.71238898038469\n",
            "\n",
            " O volume do cilindro é:  2.356194490192345\n",
            " Informe o valor do raio do cílindro: 10\n",
            " Informe o valor da altura h2: 10\n",
            " Informe o valor da altura h1: 5\n",
            "\n",
            " A área lateral é:  471.23889803846896\n",
            "\n",
            " O volume do cilindro é:  2356.194490192345\n"
          ]
        }
      ]
    },
    {
      "cell_type": "markdown",
      "source": [
        "**Ex 4**"
      ],
      "metadata": {
        "id": "-TEgIer3A4QO"
      }
    },
    {
      "cell_type": "code",
      "source": [
        "print(' * PROGRAMA DE MÉDIAS MATEMÁTICAS * \\n')\n",
        "\n",
        "n = int(input(' Informe a quantidade de cálculos que deseja realizar: '))\n",
        "while n <= 0:\n",
        "  print(' Opção inválida')\n",
        "  n = int(input(' Informe a quantidade de cálculos que deseja realizar: '))\n",
        "\n",
        "for i in range (1 ,n+1, 1):\n",
        "\n",
        "  print('\\n MENU \\n')\n",
        "  print(' (1) Média Aritmética')\n",
        "  print(' (2) Média Ponderada')\n",
        "\n",
        "  op = int(input('\\n Informe o valor da opção: '))\n",
        "  while op < 1 or op > 2:\n",
        "    print(' Opção inválida')\n",
        "    op = int(input(' Informe o valor da opção: '))\n",
        "\n",
        "  n1 = float(input('\\n Informe o valor da nota n1: '))\n",
        "  while n1 < 0 or n1 > 10:\n",
        "    print(' Valor inválido')\n",
        "    n1 = float(input(' Informe o valor da nota n1: '))\n",
        "\n",
        "  n2 = float(input(' Informe o valor da nota n2: '))\n",
        "  while n2 < 0 or n2 > 10:\n",
        "    print(' Valor inválido')\n",
        "    n2 = float(input(' Informe o valor da nota n2: '))\n",
        "\n",
        "  n3 = float(input(' Informe o valor da nota n3: '))\n",
        "  while n3 < 0 or n3 > 10:\n",
        "    print(' Valor inválido')\n",
        "    n3 = float(input(' Informe o valor da nota n3: '))\n",
        "\n",
        "  if op == 1:\n",
        "    m = (n1+n2+n3)/3\n",
        "  else:\n",
        "    m = n1*0.2 + n2+0.3 + n3*0.5\n",
        "\n",
        "  print('\\n A média final é:', m)"
      ],
      "metadata": {
        "colab": {
          "base_uri": "https://localhost:8080/"
        },
        "id": "EqecEZlbELZT",
        "outputId": "02a14967-157f-4bfc-b1d9-eace344cb477"
      },
      "execution_count": null,
      "outputs": [
        {
          "output_type": "stream",
          "name": "stdout",
          "text": [
            " * PROGRAMA DE MÉDIAS MATEMÁTICAS * \n",
            "\n",
            " Informe a quantidade de cálculos que deseja realizar: 1\n",
            "\n",
            " MENU \n",
            "\n",
            " (1) Média Aritmética\n",
            " (2) Média Ponderada\n",
            "\n",
            " Informe o valor da opção: 2\n",
            "\n",
            " Informe o valor da nota n1: 1\n",
            " Informe o valor da nota n2: 1\n",
            " Informe o valor da nota n3: 1\n",
            "\n",
            " A média final é: 2.0\n"
          ]
        }
      ]
    },
    {
      "cell_type": "markdown",
      "source": [
        "**Ex 5**"
      ],
      "metadata": {
        "id": "sgubJkPeBXK_"
      }
    },
    {
      "cell_type": "code",
      "source": [
        "import math as m\n",
        "\n",
        "n = int(input(' Informe a quantidade de círculos que deseja calcular: '))\n",
        "while n <= 0:\n",
        "  print(' Valor inválido: Menor ou igual à zero')\n",
        "  n = int(input(' Informe a quantidade de círculos que deseja calcular: '))\n",
        "\n",
        "for i in range (1,n+1,1):\n",
        "  print('\\n Círculo ',i)\n",
        "  r = float(input(' Informe o valor do raio do círculo: '))\n",
        "  while r <= 0:\n",
        "    print(' Valor inválido: Menor ou igual à zero')\n",
        "    r = float(input(' Informe o valor do raio do círculo: '))\n",
        "\n",
        "  a = m.pi * r**2\n",
        "\n",
        "  c = 2 * m.pi * r\n",
        "\n",
        "  print('\\n A área do círculo %.f é: %.2f' %(i,a))\n",
        "  print(' O comprimento do círculo %.f é: %.2f' %(i,c))"
      ],
      "metadata": {
        "colab": {
          "base_uri": "https://localhost:8080/"
        },
        "id": "iM1Wpz8nBaM_",
        "outputId": "f990bc5c-1679-42dc-c80d-1b66ab0cffb6"
      },
      "execution_count": null,
      "outputs": [
        {
          "output_type": "stream",
          "name": "stdout",
          "text": [
            " Informe a quantidade de círculos que deseja calcular: 2\n",
            "\n",
            " Círculo  1\n",
            " Informe o valor do raio do círculo: 10\n",
            " A área do círculo 1 é: 314.16\n",
            " O comprimento do círculo 1 é: 62.83\n",
            "\n",
            " Círculo  2\n",
            " Informe o valor do raio do círculo: 10\n",
            " A área do círculo 2 é: 314.16\n",
            " O comprimento do círculo 2 é: 62.83\n"
          ]
        }
      ]
    },
    {
      "cell_type": "markdown",
      "source": [
        "**Ex 6**"
      ],
      "metadata": {
        "id": "wocxjvdmEEvN"
      }
    },
    {
      "cell_type": "code",
      "source": [
        "print(' * QUADRO OPERAÇÕES ENTRE DOIS VALORES * \\n')\n",
        "\n",
        "n = int(input(' Informe o número de cálculos que deseja efetuar: \\n'))\n",
        "while n <= 0:\n",
        "  print(' Opção inválida')\n",
        "  op = int(input(' Informe o número de cálculos que deseja efetuar: '))\n",
        "\n",
        "for i in range (1, n+1, 1):\n",
        "  print('\\n MENU ')\n",
        "  print(' (1) Adição')\n",
        "  print(' (2) Subtração')\n",
        "  print(' (3) Multiplicação')\n",
        "  print(' (4) Divisão entre números reais')\n",
        "  print(' (5) Divisão entre números inteiros')\n",
        "\n",
        "  op = int(input('\\n Informe o valor da opção: '))\n",
        "\n",
        "  while op < 1 or op > 5:\n",
        "    print(' Opção inválida')\n",
        "    op = int(input(' Informe o valor da opção: '))\n",
        "\n",
        "  print('\\n Opção escolhida com sucesso \\n')\n",
        "\n",
        "  n1 = float(input(' Informe o primeiro valor: '))\n",
        "  n2 = float(input(' Informe o segundo valor: '))\n",
        "\n",
        "  if op == 1:\n",
        "    res = n1+n2\n",
        "    print('\\n O valor da soma é: ', res)\n",
        "  elif op == 2:\n",
        "    res = n1-n2\n",
        "    print('\\n O valor da subtração é: ', res)\n",
        "  elif op == 3:\n",
        "    res = n1*n2\n",
        "    print('\\n O valor da multiplicação é: ', res)\n",
        "  elif op == 4:\n",
        "    if n2 == 0:\n",
        "      print('\\n Não é possível fazer a divisão por 0')\n",
        "    else:\n",
        "      res = n1/n2\n",
        "      print('\\n O valor da multiplicação é: ', res)\n",
        "  else:\n",
        "    if n2 == 0:\n",
        "      print('\\n Não é possível fazer a divisão por 0')\n",
        "    else:\n",
        "      res = n1//n2\n",
        "      print('\\n O valor da multiplicação é: ', res)"
      ],
      "metadata": {
        "id": "mR0EvKqtEEfN",
        "outputId": "e69adbcf-73e8-4f9e-fb81-2dd35307fe68",
        "colab": {
          "base_uri": "https://localhost:8080/"
        }
      },
      "execution_count": null,
      "outputs": [
        {
          "output_type": "stream",
          "name": "stdout",
          "text": [
            " * QUADRO OPERAÇÕES ENTRE DOIS VALORES * \n",
            "\n",
            " Informe o número de cálculos que deseja efetuar: \n",
            "1\n",
            "\n",
            " MENU \n",
            " (1) Adição\n",
            " (2) Subtração\n",
            " (3) Multiplicação\n",
            " (4) Divisão entre números reais\n",
            " (5) Divisão entre números inteiros\n",
            "\n",
            " Informe o valor da opção: 2\n",
            "\n",
            " Opção escolhida com sucesso \n",
            "\n",
            " Informe o primeiro valor: 30\n",
            " Informe o segundo valor: 20\n",
            "\n",
            " O valor da subtração é:  10.0\n"
          ]
        }
      ]
    },
    {
      "cell_type": "markdown",
      "source": [
        "**ATIVIDADES COMPLEMENTARES**"
      ],
      "metadata": {
        "id": "SuvatwtFFs4b"
      }
    },
    {
      "cell_type": "markdown",
      "source": [
        "**Ex 7.30**"
      ],
      "metadata": {
        "id": "Vz9VWl4QF0QD"
      }
    },
    {
      "cell_type": "code",
      "source": [
        "import math as m\n",
        "\n",
        "n = int(input(' Informe a quantidade de tetraedros regulares que deseja calcular: '))\n",
        "while n <= 0:\n",
        "  print('Valor inválido: Menor ou igual à zero')\n",
        "  n = int(input(' Informe a quantidade de tetraedros regulares que deseja calcular: '))\n",
        "\n",
        "for i in range (1, n+1, 1):\n",
        "  print('\\n Tetraedro regular ', i)\n",
        "  a = float(input(' Informe o valor da Aresta \"a\": '))\n",
        "  h = (a*m.sqrt(6))/3\n",
        "  A = a**2 * m.sqrt(3)\n",
        "  V = (a**3 * m.sqrt(2))/12\n",
        "\n",
        "  print(' A altura do respectivo tetraedro regular é: %.2f' %h)\n",
        "  print(' A área do respectivo tetraedro regular é: %.2f' %A)\n",
        "  print(' O volume do respectivo tetraedro regular é: %.2f' %V)\n"
      ],
      "metadata": {
        "colab": {
          "base_uri": "https://localhost:8080/"
        },
        "id": "W0LYYAB_F2GD",
        "outputId": "49b57bc0-1928-46fc-b9b7-251079b10c6c"
      },
      "execution_count": null,
      "outputs": [
        {
          "output_type": "stream",
          "name": "stdout",
          "text": [
            " Informe a quantidade de tetraedros regulares que deseja calcular: 3\n",
            "\n",
            " Tetraedro regular  1\n",
            " Informe o valor da Aresta \"a\": 5\n",
            " A altura do respectivo tetraedro regular é: 4.08\n",
            " A área do respectivo tetraedro regular é: 43.30\n",
            " O volume do respectivo tetraedro regular é: 14.73\n",
            "\n",
            " Tetraedro regular  2\n",
            " Informe o valor da Aresta \"a\": 2\n",
            " A altura do respectivo tetraedro regular é: 1.63\n",
            " A área do respectivo tetraedro regular é: 6.93\n",
            " O volume do respectivo tetraedro regular é: 0.94\n",
            "\n",
            " Tetraedro regular  3\n",
            " Informe o valor da Aresta \"a\": 3.8\n",
            " A altura do respectivo tetraedro regular é: 3.10\n",
            " A área do respectivo tetraedro regular é: 25.01\n",
            " O volume do respectivo tetraedro regular é: 6.47\n"
          ]
        }
      ]
    },
    {
      "cell_type": "markdown",
      "source": [
        "**Ex 7.35**"
      ],
      "metadata": {
        "id": "svYLC1Q-Iy3m"
      }
    },
    {
      "cell_type": "code",
      "source": [
        "import math as m\n",
        "\n",
        "n = int(input(' Informe a quantidade que deseja calcular: '))\n",
        "while n <= 0:\n",
        "  print('Valor inválido: Menor ou igual à zero')\n",
        "  n = int(input(' Informe a quantidade que deseja calcular: '))\n",
        "\n",
        "for i in range (1, n+1, 1):\n",
        "  print('\\n Tronco de Cone Reto', n)\n",
        "\n",
        "  r = float(input(' Informe o valor do raio da base menor \"r\": '))\n",
        "  while r <= 0:\n",
        "    print('\\n O valor informado é inválido')\n",
        "    r = float(input(' Informe o valor do raio da base menor \"r\": '))\n",
        "\n",
        "  R = float(input(' Informe o valor do raio da base maior \"R\": '))\n",
        "  while R <= r:\n",
        "    print('\\n O valor informado é inválido')\n",
        "    R = float(input(' Informe o valor do raio da base maior \"R\": '))\n",
        "\n",
        "  h = float(input(' Informe o valor da altura \"h\": '))\n",
        "  while h <= 0:\n",
        "    print('\\n O valor informado é inválido')\n",
        "    h = float(input(' Informe o valor da altura \"h\": '))\n",
        "\n",
        "  V = 1/3 * m.pi * h * (R**2 + R * r + r**2)\n",
        "\n",
        "  print('\\n O volume do Tronco do Cone Reto %.f é: %.2f' %(i,V))\n",
        "\n"
      ],
      "metadata": {
        "colab": {
          "base_uri": "https://localhost:8080/"
        },
        "id": "i_gc7kFaI4DO",
        "outputId": "1bd91bad-fb0e-4a6f-fb72-a9ec9b1afc12"
      },
      "execution_count": null,
      "outputs": [
        {
          "output_type": "stream",
          "name": "stdout",
          "text": [
            " Informe a quantidade que deseja calcular: 2\n",
            "\n",
            " Tronco de Cone Reto 2\n",
            " Informe o valor do raio da base menor: 2\n",
            " Informe o valor do raio da base maior: 5\n",
            " Informe o valor da altura h: 2\n",
            "\n",
            " O volume do Tronco do Cone Reto 1 é: 81.68\n",
            "\n",
            " Tronco de Cone Reto 2\n",
            " Informe o valor do raio da base menor: 3\n",
            " Informe o valor do raio da base maior: 0\n",
            "\n",
            " O valor informado é inválido\n",
            " Informe o valor do raio da base maior: -1\n",
            "\n",
            " O valor informado é inválido\n",
            " Informe o valor do raio da base maior: 10\n",
            " Informe o valor da altura h: 4\n",
            "\n",
            " O volume do Tronco do Cone Reto 2 é: 582.24\n"
          ]
        }
      ]
    },
    {
      "cell_type": "markdown",
      "source": [
        "**Ex 7.65**"
      ],
      "metadata": {
        "id": "MHkqXEyHLW4i"
      }
    },
    {
      "cell_type": "code",
      "source": [
        "import math as m\n",
        "\n",
        "n = int(input(' Informe a quantidade de esferas que deseja calcular: '))\n",
        "while n <= 0:\n",
        "  print('Valor inválido: Menor ou igual à zero')\n",
        "  n = int(input(' Informe a quantidade de esferas que deseja calcular: '))\n",
        "\n",
        "for i in range (1, n+1, 1):\n",
        "  print('\\n Esfera ', i)\n",
        "  r = float(input(' Informe o valor do raio \"r\" da esfera: '))\n",
        "  while r <= 0:\n",
        "    print(' Valor inválido: Menor ou igual a zero')\n",
        "    r = float(input(' Informe o valor do raio \"r\" da esfera: '))\n",
        "\n",
        "  for a in range (10, 361, 10):\n",
        "    A = (2 * m.pi * r**2 * a)/180\n",
        "\n",
        "    print(' Para o ângulo alpha de %.f° da esfera n° %.f, a área respectiva é = %.2f' %(a,i,A))"
      ],
      "metadata": {
        "id": "a8IbaPabLa1S",
        "outputId": "74506a2f-f82d-4a82-a7f4-1d74b1387de0",
        "colab": {
          "base_uri": "https://localhost:8080/"
        }
      },
      "execution_count": null,
      "outputs": [
        {
          "output_type": "stream",
          "name": "stdout",
          "text": [
            " Informe a quantidade de esferas que deseja calcular: 1\n",
            "\n",
            " Esfera  1\n",
            " Informe o valor do raio \"r\" da esfera: 10\n",
            " Para o ângulo alpha de 10° da esfera n° 1, a área respectiva é = 34.91\n",
            " Para o ângulo alpha de 20° da esfera n° 1, a área respectiva é = 69.81\n",
            " Para o ângulo alpha de 30° da esfera n° 1, a área respectiva é = 104.72\n",
            " Para o ângulo alpha de 40° da esfera n° 1, a área respectiva é = 139.63\n",
            " Para o ângulo alpha de 50° da esfera n° 1, a área respectiva é = 174.53\n",
            " Para o ângulo alpha de 60° da esfera n° 1, a área respectiva é = 209.44\n",
            " Para o ângulo alpha de 70° da esfera n° 1, a área respectiva é = 244.35\n",
            " Para o ângulo alpha de 80° da esfera n° 1, a área respectiva é = 279.25\n",
            " Para o ângulo alpha de 90° da esfera n° 1, a área respectiva é = 314.16\n",
            " Para o ângulo alpha de 100° da esfera n° 1, a área respectiva é = 349.07\n",
            " Para o ângulo alpha de 110° da esfera n° 1, a área respectiva é = 383.97\n",
            " Para o ângulo alpha de 120° da esfera n° 1, a área respectiva é = 418.88\n",
            " Para o ângulo alpha de 130° da esfera n° 1, a área respectiva é = 453.79\n",
            " Para o ângulo alpha de 140° da esfera n° 1, a área respectiva é = 488.69\n",
            " Para o ângulo alpha de 150° da esfera n° 1, a área respectiva é = 523.60\n",
            " Para o ângulo alpha de 160° da esfera n° 1, a área respectiva é = 558.51\n",
            " Para o ângulo alpha de 170° da esfera n° 1, a área respectiva é = 593.41\n",
            " Para o ângulo alpha de 180° da esfera n° 1, a área respectiva é = 628.32\n",
            " Para o ângulo alpha de 190° da esfera n° 1, a área respectiva é = 663.23\n",
            " Para o ângulo alpha de 200° da esfera n° 1, a área respectiva é = 698.13\n",
            " Para o ângulo alpha de 210° da esfera n° 1, a área respectiva é = 733.04\n",
            " Para o ângulo alpha de 220° da esfera n° 1, a área respectiva é = 767.94\n",
            " Para o ângulo alpha de 230° da esfera n° 1, a área respectiva é = 802.85\n",
            " Para o ângulo alpha de 240° da esfera n° 1, a área respectiva é = 837.76\n",
            " Para o ângulo alpha de 250° da esfera n° 1, a área respectiva é = 872.66\n",
            " Para o ângulo alpha de 260° da esfera n° 1, a área respectiva é = 907.57\n",
            " Para o ângulo alpha de 270° da esfera n° 1, a área respectiva é = 942.48\n",
            " Para o ângulo alpha de 280° da esfera n° 1, a área respectiva é = 977.38\n",
            " Para o ângulo alpha de 290° da esfera n° 1, a área respectiva é = 1012.29\n",
            " Para o ângulo alpha de 300° da esfera n° 1, a área respectiva é = 1047.20\n",
            " Para o ângulo alpha de 310° da esfera n° 1, a área respectiva é = 1082.10\n",
            " Para o ângulo alpha de 320° da esfera n° 1, a área respectiva é = 1117.01\n",
            " Para o ângulo alpha de 330° da esfera n° 1, a área respectiva é = 1151.92\n",
            " Para o ângulo alpha de 340° da esfera n° 1, a área respectiva é = 1186.82\n",
            " Para o ângulo alpha de 350° da esfera n° 1, a área respectiva é = 1221.73\n",
            " Para o ângulo alpha de 360° da esfera n° 1, a área respectiva é = 1256.64\n"
          ]
        }
      ]
    }
  ]
}