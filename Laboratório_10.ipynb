{
  "nbformat": 4,
  "nbformat_minor": 0,
  "metadata": {
    "colab": {
      "provenance": [],
      "authorship_tag": "ABX9TyN8fPKmiyizEz7sK0C88q1J",
      "include_colab_link": true
    },
    "kernelspec": {
      "name": "python3",
      "display_name": "Python 3"
    },
    "language_info": {
      "name": "python"
    }
  },
  "cells": [
    {
      "cell_type": "markdown",
      "metadata": {
        "id": "view-in-github",
        "colab_type": "text"
      },
      "source": [
        "<a href=\"https://colab.research.google.com/github/kobajk/algoritmos/blob/Laborat%C3%B3rios/Laborat%C3%B3rio_10.ipynb\" target=\"_parent\"><img src=\"https://colab.research.google.com/assets/colab-badge.svg\" alt=\"Open In Colab\"/></a>"
      ]
    },
    {
      "cell_type": "code",
      "execution_count": null,
      "metadata": {
        "colab": {
          "base_uri": "https://localhost:8080/"
        },
        "id": "xOX3pByXImXl",
        "outputId": "3cc3c13d-e110-49c9-98d5-12b2aa46bd1d"
      },
      "outputs": [
        {
          "output_type": "stream",
          "name": "stdout",
          "text": [
            " Informe o valor do raio r: 1\n",
            " Os valores da área e do perimetro são, respectivamente: 3.141592653589793 e 6.283185307179586\n",
            " Os valores da área e do perimetro são, respectivamente: 3.141592653589793 e 6.283185307179586\n",
            " Os valores da área e do perimetro são, respectivamente: {3.141592653589793} e {6.283185307179586}\n"
          ]
        }
      ],
      "source": [
        "import math as m\n",
        "def Area (r):\n",
        "  A = m.pi*r*r\n",
        "  return A\n",
        "\n",
        "def Perimetro (r):\n",
        "  return 2*m.pi*r\n",
        "\n",
        "r = float(input(' Informe o valor do raio r: '))\n",
        "\n",
        "A = Area(r)\n",
        "P = Perimetro(r)\n",
        "\n",
        "print(f' Os valores da área e do perimetro são, respectivamente: {A} e {P}')\n",
        "print(f' Os valores da área e do perimetro são, respectivamente: {Area(r)} e {Perimetro(r)}')\n",
        "print(' Os valores da área e do perimetro são, respectivamente: {} e {}'.format(Area(r), Perimetro(r)))\n"
      ]
    },
    {
      "cell_type": "code",
      "source": [
        "import math as m\n",
        "def Circulo (r):\n",
        "  global A,P\n",
        "  A = m.pi*r*r\n",
        "  P = 2*m.pi*r\n",
        "\n",
        "r = float(input(' Informe o valor do raio r: '))\n",
        "Circulo(r)\n",
        "\n",
        "print(f' Os valores da área e do perimetro são, respectivamente: {A} e {P}')"
      ],
      "metadata": {
        "id": "awvRlUnQLXr5"
      },
      "execution_count": null,
      "outputs": []
    },
    {
      "cell_type": "code",
      "source": [
        "import math as m\n",
        "def funcao (x):\n",
        "  global d,t,m\n",
        "  d = x*2\n",
        "  t = x*3\n",
        "  m = x/2\n",
        "\n",
        "x = float(input(' Informe o valor de x: '))\n",
        "funcao(x)\n",
        "print(' O dobro do número %.f é %.2f, o triplo é %.2f e a metade é %.2f' %(x, d, t, m))"
      ],
      "metadata": {
        "colab": {
          "base_uri": "https://localhost:8080/"
        },
        "id": "7RhtikK6M9Uu",
        "outputId": "30444250-4f34-4825-bcdd-0c6cce168b1c"
      },
      "execution_count": null,
      "outputs": [
        {
          "output_type": "stream",
          "name": "stdout",
          "text": [
            " Informe o valor de x: 1\n",
            " O dobro do número 1 é 2.00, o triplo é 3.00 e a metade é 0.50\n"
          ]
        }
      ]
    },
    {
      "cell_type": "code",
      "source": [
        "a = float(input(' Informe o valor de a: '))\n",
        "b = float(input(' Informe o valor de b: '))\n",
        "\n",
        "aux = b\n",
        "b = a\n",
        "a = aux\n",
        "\n",
        "print(' Os valores de a e b após a troca são, respectivamente: %.2f e %.2f' %(a,b))"
      ],
      "metadata": {
        "colab": {
          "base_uri": "https://localhost:8080/"
        },
        "id": "1WhSNHbOP_Vr",
        "outputId": "7e8f5dff-3c50-467c-9bac-e46e3d073e84"
      },
      "execution_count": null,
      "outputs": [
        {
          "output_type": "stream",
          "name": "stdout",
          "text": [
            " Informe o valor de a: 10\n",
            " Informe o valor de b: 5\n",
            " Os valores de a e b após a troca são, respectivamente: 5.00 e 10.00\n"
          ]
        }
      ]
    },
    {
      "cell_type": "code",
      "source": [
        "def troca():\n",
        "  global a,b\n",
        "  aux = b\n",
        "  b = a\n",
        "  a = aux\n",
        "\n",
        "a = float(input(' Informe o valor de a: '))\n",
        "b = float(input(' Informe o valor de b: '))\n",
        "\n",
        "troca()\n",
        "\n",
        "print(' Os valores de a e b após a troca são, respectivamente: %.2f e %.2f' %(a,b))"
      ],
      "metadata": {
        "colab": {
          "base_uri": "https://localhost:8080/"
        },
        "id": "C49D5IXOQ3_5",
        "outputId": "80f30fed-f4fe-4fdd-8e1c-95653be1376c"
      },
      "execution_count": null,
      "outputs": [
        {
          "output_type": "stream",
          "name": "stdout",
          "text": [
            " Informe o valor de a: 1\n",
            " Informe o valor de b: 2\n",
            " Os valores de a e b após a troca são, respectivamente: 2.00 e 1.00\n"
          ]
        }
      ]
    },
    {
      "cell_type": "markdown",
      "source": [
        "## **ATIVIDADE MINIMA**"
      ],
      "metadata": {
        "id": "g5UfQaMMSkRI"
      }
    },
    {
      "cell_type": "code",
      "source": [
        "#1\n",
        "\n",
        "def entrada():\n",
        "  x = int(input(' Informe o valor do número: '))\n",
        "  while x <= 0:\n",
        "    print(' Valor inválido: Menor ou igual a zero')\n",
        "    x = int(input(' Informe o valor do número: '))\n",
        "  return x\n",
        "\n",
        "def calculaSoma(a, b, c):\n",
        "  s = a + b + c\n",
        "  return s\n",
        "\n",
        "def main():\n",
        "  a = entrada()\n",
        "  b = entrada()\n",
        "  c = entrada()\n",
        "  s = calculaSoma(a, b, c)\n",
        "  print(f' {a} + {b} + {c} = {s}')\n",
        "\n",
        "main()\n"
      ],
      "metadata": {
        "colab": {
          "base_uri": "https://localhost:8080/"
        },
        "id": "S-St2fUBSnIv",
        "outputId": "dd1994d8-b114-4a17-c912-8c9429334dd4"
      },
      "execution_count": null,
      "outputs": [
        {
          "output_type": "stream",
          "name": "stdout",
          "text": [
            " Informe o valor do número: 1\n",
            " Informe o valor do número: 1\n",
            " Informe o valor do número: 1\n",
            " 1 + 1 + 1 = 3\n"
          ]
        }
      ]
    },
    {
      "cell_type": "code",
      "source": [
        "def verifica(x):\n",
        "  if x > 0:\n",
        "    resp = 'P'\n",
        "  elif x < 0:\n",
        "    resp = 'N'\n",
        "  else:\n",
        "    resp = \"Zero\"\n",
        "  return resp\n",
        "\n",
        "def main():\n",
        "  x = int(input(' Informe o valor do número: '))\n",
        "  a = verifica(x)\n",
        "  print('O número é', a)\n",
        "\n",
        "main()"
      ],
      "metadata": {
        "colab": {
          "base_uri": "https://localhost:8080/"
        },
        "id": "kno410yKUwcu",
        "outputId": "ad521965-ba43-432e-9a19-01597b8b5918"
      },
      "execution_count": null,
      "outputs": [
        {
          "output_type": "stream",
          "name": "stdout",
          "text": [
            " Informe o valor do número: 1\n",
            "O número é P\n"
          ]
        }
      ]
    }
  ]
}