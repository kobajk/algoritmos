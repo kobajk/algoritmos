{
  "nbformat": 4,
  "nbformat_minor": 0,
  "metadata": {
    "colab": {
      "provenance": [],
      "authorship_tag": "ABX9TyNaqPBddMOfaFIbHfqkcgBO",
      "include_colab_link": true
    },
    "kernelspec": {
      "name": "python3",
      "display_name": "Python 3"
    },
    "language_info": {
      "name": "python"
    }
  },
  "cells": [
    {
      "cell_type": "markdown",
      "metadata": {
        "id": "view-in-github",
        "colab_type": "text"
      },
      "source": [
        "<a href=\"https://colab.research.google.com/github/kobajk/algoritmos/blob/Laborat%C3%B3rios/Laborat%C3%B3rio_08.ipynb\" target=\"_parent\"><img src=\"https://colab.research.google.com/assets/colab-badge.svg\" alt=\"Open In Colab\"/></a>"
      ]
    },
    {
      "cell_type": "markdown",
      "source": [
        "# REVISÃO"
      ],
      "metadata": {
        "id": "9ekipR3aB481"
      }
    },
    {
      "cell_type": "code",
      "execution_count": null,
      "metadata": {
        "colab": {
          "base_uri": "https://localhost:8080/"
        },
        "id": "T5ZKF4zh9UBa",
        "outputId": "f3547f70-171c-42da-8d3f-b89bdc853a8b"
      },
      "outputs": [
        {
          "output_type": "stream",
          "name": "stdout",
          "text": [
            " Informe a quantidade de termos que deseja somar: 3\n",
            " Informe o valor de x: 1\n",
            " O valor da soma é:  18.0\n"
          ]
        }
      ],
      "source": [
        "import math as m\n",
        "\n",
        "n = int(input(' Informe a quantidade de termos que deseja somar: '))\n",
        "while n <= 0:\n",
        "  print(' Quantidade inválida: Menor ou igual a zero.')\n",
        "  n = int(input(' Informe a quantidade de termos que deseja somar: '))\n",
        "\n",
        "x = float(input(' Informe o valor de x: '))\n",
        "while x <= 0:\n",
        "  print(' Quantidade inválida: Menor ou igual a zero')\n",
        "  x = float(input(' Informe o valor de x: '))\n",
        "\n",
        "s = 0\n",
        "\n",
        "for i in range (1, n+1, 1):\n",
        "  s = s + 3 * i * m.pow(x,2*i-1)\n",
        "\n",
        "print(' O valor da soma é: ', s)"
      ]
    },
    {
      "cell_type": "code",
      "source": [
        "import math as m\n",
        "\n",
        "n = int(input(' Informe a quantidade de termos que deseja somar: '))\n",
        "while n <= 0:\n",
        "  print(' Quantidade inválida: Menor ou igual a zero.')\n",
        "  n = int(input(' Informe a quantidade de termos que deseja somar: '))\n",
        "\n",
        "x = float(input(' Informe o valor de x: '))\n",
        "while x <= 0:\n",
        "  print(' Quantidade inválida: Menor ou igual a zero')\n",
        "  x = float(input(' Informe o valor de x: '))\n",
        "\n",
        "c = 1\n",
        "\n",
        "s = 0\n",
        "\n",
        "for i in range (1, n+1, 1):\n",
        "  s = s + 3 * i * m.pow(x,2*i-1)*c\n",
        "  c = -c\n",
        "\n",
        "print(' O valor da soma é: ', s)"
      ],
      "metadata": {
        "id": "GLeg_QcT_UNB"
      },
      "execution_count": null,
      "outputs": []
    },
    {
      "cell_type": "code",
      "source": [
        "import math as m\n",
        "\n",
        "n = int(input(' Informe a quantidade de termos que deseja somar: '))\n",
        "while n <= 0:\n",
        "  print(' Quantidade inválida: Menor ou igual a zero.')\n",
        "  n = int(input(' Informe a quantidade de termos que deseja somar: '))\n",
        "\n",
        "x = float(input(' Informe o valor de x: '))\n",
        "while x <= 0:\n",
        "  print(' Quantidade inválida: Menor ou igual a zero')\n",
        "  x = float(input(' Informe o valor de x: '))\n",
        "\n",
        "c = -1\n",
        "\n",
        "s = 0\n",
        "\n",
        "for i in range (1, n+1):\n",
        "  s = s + 3 * i * m.pow(x,2*i-1)*c\n",
        "  c = -c\n",
        "\n",
        "print(' O valor da soma é: ', s)"
      ],
      "metadata": {
        "id": "Ot0fZ7bX_rB2"
      },
      "execution_count": null,
      "outputs": []
    },
    {
      "cell_type": "markdown",
      "source": [
        "# --------------------------------------------------------------------------------"
      ],
      "metadata": {
        "id": "_Gc7GEMKBzc0"
      }
    },
    {
      "cell_type": "code",
      "source": [
        "## SOMA DOS NÚMEROS POSITIVOS\n",
        "\n",
        "n = int(input(' Informe a quantidade de termos que deseja somar: '))\n",
        "while n <= 0:\n",
        "  print(' Quantidade inválida: Menor ou igual a zero.')\n",
        "  n = int(input(' Informe a quantidade de termos que deseja somar: '))\n",
        "\n",
        "sp = 0\n",
        "\n",
        "for i in range (1, n+1):\n",
        "  x = float(input(' Informe o valor de x: '))\n",
        "  if x > 0:\n",
        "    sp = sp + x\n",
        "\n",
        "print(' A soma dos positivos é: ', sp)"
      ],
      "metadata": {
        "colab": {
          "base_uri": "https://localhost:8080/"
        },
        "id": "b-M7bNNxBygU",
        "outputId": "af290147-443b-4fa8-c177-739dd414fbc2"
      },
      "execution_count": null,
      "outputs": [
        {
          "output_type": "stream",
          "name": "stdout",
          "text": [
            " Informe a quantidade de termos que deseja somar: 5\n",
            " Informe o valor de x10\n",
            " Informe o valor de x10\n",
            " Informe o valor de x-5\n",
            " Informe o valor de x-5\n",
            " Informe o valor de x0\n",
            " O valor da soma dos positivos é:  20.0\n"
          ]
        }
      ]
    },
    {
      "cell_type": "code",
      "source": [
        "## SOMA DOS NÚMEROS PARES\n",
        "\n",
        "n = int(input(' Informe a quantidade de termos que deseja somar: '))\n",
        "while n <= 0:\n",
        "  print(' Quantidade inválida: Menor ou igual a zero.')\n",
        "  n = int(input(' Informe a quantidade de termos que deseja somar: '))\n",
        "\n",
        "qp = 0\n",
        "\n",
        "for i in range (1, n+1):\n",
        "  x = int(input(' Informe o valor de x: '))\n",
        "  if x % 2 == 0:\n",
        "    qp = qp + 1\n",
        "\n",
        "print(' A soma dos números pares é: ', qp)"
      ],
      "metadata": {
        "colab": {
          "base_uri": "https://localhost:8080/"
        },
        "id": "qcusbuY5EasD",
        "outputId": "cf465b78-73ff-4a93-dd14-146576ed3224"
      },
      "execution_count": null,
      "outputs": [
        {
          "output_type": "stream",
          "name": "stdout",
          "text": [
            " Informe a quantidade de termos que deseja somar: 1\n",
            " Informe o valor de x: 1\n",
            " A soma dos números pares é:  0\n"
          ]
        }
      ]
    },
    {
      "cell_type": "code",
      "source": [
        "## PORCENTAGEM DE NÚMEROS IMPARES\n",
        "\n",
        "n = int(input(' Informe a quantidade de termos que deseja somar: '))\n",
        "while n <= 0:\n",
        "  print(' Quantidade inválida: Menor ou igual a zero.')\n",
        "  n = int(input(' Informe a quantidade de termos que deseja somar: '))\n",
        "\n",
        "qi = 0\n",
        "\n",
        "for i in range (1, n+1):\n",
        "  x = int(input(' Informe o valor de x: '))\n",
        "  if x % 2 != 0:\n",
        "    qi = qi + 1\n",
        "\n",
        "pi = qi/n*100\n",
        "\n",
        "print(' A porcentagem de impares é: ', pi,'%')"
      ],
      "metadata": {
        "colab": {
          "base_uri": "https://localhost:8080/"
        },
        "id": "cJN9j37mGDfp",
        "outputId": "e3ad7b34-8cde-422f-a3b5-afe21607cb8d"
      },
      "execution_count": null,
      "outputs": [
        {
          "output_type": "stream",
          "name": "stdout",
          "text": [
            " Informe a quantidade de termos que deseja somar: 1\n",
            " Informe o valor de x: 1\n",
            " A porcentagem de impares é:  100.0 %\n"
          ]
        }
      ]
    },
    {
      "cell_type": "code",
      "source": [
        "n = int(input(' Informe a quantidade de termos que deseja somar: '))\n",
        "while n <= 0:\n",
        "  print(' Quantidade inválida: Menor ou igual a zero.')\n",
        "  n = int(input(' Informe a quantidade de termos que deseja somar: '))\n",
        "\n",
        "sneg = 0\n",
        "qneg = 0\n",
        "\n",
        "for i in range (1, n+1):\n",
        "  x = float(input(' Informe o valor de x: '))\n",
        "  if x < 0:\n",
        "    sneg = sneg + x\n",
        "    qneg = qneg + 1\n",
        "\n",
        "if qneg == 0:\n",
        "  mneg = 0\n",
        "else:\n",
        "  mneg = sneg/qneg\n",
        "\n",
        "print(' A média dos negativos é: ', mneg)"
      ],
      "metadata": {
        "colab": {
          "base_uri": "https://localhost:8080/"
        },
        "id": "qzwC4EH3HbkZ",
        "outputId": "8bfec360-f433-484a-ac5d-269884781b7f"
      },
      "execution_count": null,
      "outputs": [
        {
          "output_type": "stream",
          "name": "stdout",
          "text": [
            " Informe a quantidade de termos que deseja somar: 5\n",
            " Informe o valor de x: -1\n",
            " Informe o valor de x: -2\n",
            " Informe o valor de x: -3\n",
            " Informe o valor de x: -4\n",
            " Informe o valor de x: -5\n",
            " A média dos negativos é:  0\n"
          ]
        }
      ]
    },
    {
      "cell_type": "code",
      "source": [
        "n = int(input(' Informe a quantidade de termos que deseja somar: '))\n",
        "while n <= 0:\n",
        "  print(' Quantidade inválida: Menor ou igual a zero.')\n",
        "  n = int(input(' Informe a quantidade de termos que deseja somar: '))\n",
        "\n",
        "s = 0\n",
        "\n",
        "for i in range (1,n+1):\n",
        "  x = int(input(' Informe o valor de x: '))\n",
        "  if x > 0 and x % 2 == 0:\n",
        "    s = s + x\n",
        "\n",
        "print (' O valor da soma dos números positivos e pares é: ', s)"
      ],
      "metadata": {
        "colab": {
          "base_uri": "https://localhost:8080/"
        },
        "id": "gUpQMfMtIvfh",
        "outputId": "d36d63f9-253b-4ef6-d49f-a9c9f0715b42"
      },
      "execution_count": null,
      "outputs": [
        {
          "output_type": "stream",
          "name": "stdout",
          "text": [
            " Informe a quantidade de termos que deseja somar: 5\n",
            " Informe o valor de x: 10\n",
            " Informe o valor de x: 10\n",
            " Informe o valor de x: 2\n",
            " Informe o valor de x: 0\n",
            " Informe o valor de x: -1\n",
            " O valor da soma dos números positivos e pares é:  22\n"
          ]
        }
      ]
    },
    {
      "cell_type": "code",
      "source": [
        "n = int(input(' Informe a quantidade de termos que deseja calcular: '))\n",
        "while n <= 0:\n",
        "  print(' Quantidade inválida: Menor ou igual a zero.')\n",
        "  n = int(input(' Informe a quantidade de termos que deseja calcular: '))\n",
        "\n",
        "q = 0\n",
        "\n",
        "for i in range (1,n+1):\n",
        "  x = int(input(' Informe o valor de x: '))\n",
        "  if x > 0 and x % 7 == 0:\n",
        "    q = q + 1\n",
        "\n",
        "print (' A quantidade de números positivos e múltiplos de 7 são: ', q)"
      ],
      "metadata": {
        "colab": {
          "base_uri": "https://localhost:8080/"
        },
        "id": "cxwVY4fGJu2Y",
        "outputId": "a3503040-91af-4955-f21a-21641b21c9f0"
      },
      "execution_count": null,
      "outputs": [
        {
          "output_type": "stream",
          "name": "stdout",
          "text": [
            " Informe a quantidade de termos que deseja somar: 5\n",
            " Informe o valor de x: 7\n",
            " Informe o valor de x: 21\n",
            " Informe o valor de x: 0\n",
            " Informe o valor de x: 0\n",
            " Informe o valor de x: 0\n",
            " A quantidade de números positivos e múltiplos de 7 são:  2\n"
          ]
        }
      ]
    },
    {
      "cell_type": "code",
      "source": [
        "n = int(input(' Informe a quantidade de termos que deseja somar: '))\n",
        "while n <= 0:\n",
        "  print(' Quantidade inválida: Menor ou igual a zero.')\n",
        "  n = int(input(' Informe a quantidade de termos que deseja somar: '))\n",
        "\n",
        "s = 0\n",
        "\n",
        "for i in range (1,n+1):\n",
        "  x = int(input(' Informe o valor de x: '))\n",
        "  s = s + x\n",
        "\n",
        "print (' O valor da soma é: ', s)"
      ],
      "metadata": {
        "colab": {
          "base_uri": "https://localhost:8080/"
        },
        "id": "VpOFSI9gKpif",
        "outputId": "91e90590-b5ce-4602-f57c-9737cd196d28"
      },
      "execution_count": null,
      "outputs": [
        {
          "output_type": "stream",
          "name": "stdout",
          "text": [
            " Informe a quantidade de termos que deseja somar: 3\n",
            " Informe o valor de x: 10\n",
            " Informe o valor de x: 10\n",
            " Informe o valor de x: 5\n",
            " O valor da soma é:  25\n"
          ]
        }
      ]
    },
    {
      "cell_type": "code",
      "source": [
        "import random as r\n",
        "\n",
        "n = int(input(' Informe a quantidade de termos que deseja calcular: '))\n",
        "while n <= 0:\n",
        "  print(' Quantidade inválida: Menor ou igual a zero.')\n",
        "  n = int(input(' Informe a quantidade de termos que deseja calcular: '))\n",
        "\n",
        "q = 0\n",
        "\n",
        "for i in range (1,n+1):\n",
        "  x = r.randint(1,100)\n",
        "  if x % 10 == 0:\n",
        "    q = q + 1\n",
        "\n",
        "p = q/n*100\n",
        "\n",
        "print(' A porcentagem dos valores múltiplos de 10 é: ',p,'%')"
      ],
      "metadata": {
        "colab": {
          "base_uri": "https://localhost:8080/"
        },
        "id": "vWF7OiPdLExH",
        "outputId": "d9ccd570-4af6-46ea-f05e-4efb83191d95"
      },
      "execution_count": null,
      "outputs": [
        {
          "output_type": "stream",
          "name": "stdout",
          "text": [
            " Informe a quantidade de termos que deseja calcular: 50\n",
            " A porcentagem dos valores múltiplos de 10 é:  12.0 %\n"
          ]
        }
      ]
    },
    {
      "cell_type": "code",
      "source": [
        "n = int(input(' Informe a quantidade de termos que deseja calcular: '))\n",
        "while n <= 0:\n",
        "  print(' Quantidade inválida: Menor ou igual a zero.')\n",
        "  n = int(input(' Informe a quantidade de termos que deseja calcular: '))\n",
        "\n",
        "qp = 0\n",
        "qi = 0\n",
        "\n",
        "for i in range (1, n+1):\n",
        "  x = int(input(' Informe o valor de x: '))\n",
        "  if x % 2 == 0:\n",
        "    qp = qp + 1\n",
        "  else:\n",
        "    qi = qi + 1\n",
        "\n",
        "print(' A quantidade de números pares foi %.f e de números ímpares foi %.f .' %(qp,qi))"
      ],
      "metadata": {
        "colab": {
          "base_uri": "https://localhost:8080/"
        },
        "id": "gPa-eiiHNXXR",
        "outputId": "3d30075c-0a79-4b2c-c9ba-5325d680275d"
      },
      "execution_count": null,
      "outputs": [
        {
          "output_type": "stream",
          "name": "stdout",
          "text": [
            " Informe a quantidade de termos que deseja calcular: 5\n",
            " Informe o valor de x: 1\n",
            " Informe o valor de x: 2\n",
            " Informe o valor de x: 3\n",
            " Informe o valor de x: 4\n",
            " Informe o valor de x: 5\n",
            " A quantidade de números pares foi 2 e de números ímpares foi 3\n"
          ]
        }
      ]
    },
    {
      "cell_type": "markdown",
      "source": [
        "**ATIVIDADE COMPLEMENTAR**"
      ],
      "metadata": {
        "id": "5D4nJ_It5dpI"
      }
    },
    {
      "cell_type": "code",
      "source": [
        "n = int(input(' Informe a quantidade de valores que deseja calcular: '))\n",
        "while n <= 0:\n",
        "  print(' Valor inválido: Menor ou igual a zero')\n",
        "  n = int(input(' Informe a quantidade de valores que deseja calcular: '))\n",
        "\n",
        "s = 0\n",
        "q = 0\n",
        "\n",
        "for i in range (1,n+1):\n",
        "  x = float(input(' Informe o valor de x: '))\n",
        "  if x < 50 and x > -50:\n",
        "     s = s + x\n",
        "     q = q + 1\n",
        "\n",
        "if q == 0:\n",
        "  m = 0\n",
        "else:\n",
        "  m = s/q\n",
        "\n",
        "print(' A média dos números entre 50 e -50 é: ', m)\n",
        "\n"
      ],
      "metadata": {
        "id": "8wPs163M5gdb",
        "colab": {
          "base_uri": "https://localhost:8080/"
        },
        "outputId": "165a4e03-836d-4279-b7a1-b6a062cd71b5"
      },
      "execution_count": null,
      "outputs": [
        {
          "output_type": "stream",
          "name": "stdout",
          "text": [
            " Informe a quantidade de valores que deseja calcular: 5\n",
            " Informe o valor de x: 2\n",
            " Informe o valor de x: 50\n",
            " Informe o valor de x: 55\n",
            " Informe o valor de x: 32\n",
            " Informe o valor de x: -49\n",
            " A média dos números entre 50 e -50 é:  -5.0\n"
          ]
        }
      ]
    },
    {
      "cell_type": "code",
      "source": [
        "n = int(input(' Informe a quantidade de valores que deseja calcular: '))\n",
        "while n <= 0:\n",
        "  print(' Valor inválido: Menor ou igual a zero')\n",
        "  n = int(input(' Informe a quantidade de valores que deseja calcular: '))\n",
        "\n",
        "np = 0\n",
        "\n",
        "for i in range (1,n+1):\n",
        "  x = int(input(' Informe o valor de x: '))\n",
        "  if x % 2 == 0 and x < 0:\n",
        "     np = np + 1\n",
        "\n",
        "p = np/n*100\n",
        "\n",
        "print(' A porcentagem de números negativos e pares é: ', p)"
      ],
      "metadata": {
        "id": "giJyEZ-iq62H"
      },
      "execution_count": null,
      "outputs": []
    },
    {
      "cell_type": "code",
      "source": [
        "n = int(input(' Informe a quantidade de valores que deseja calcular: '))\n",
        "while n <= 0:\n",
        "  print(' Valor inválido: Menor ou igual a zero')\n",
        "  n = int(input(' Informe a quantidade de valores que deseja calcular: '))\n",
        "\n",
        "s = 0\n",
        "q = 0\n",
        "\n",
        "for i in range (1,n+1):\n",
        "  x = int(input(' Informe o valor de x: '))\n",
        "  if x % 7 == 0 and x % 2 == 0:\n",
        "     s = s + x\n",
        "     q = q + 1\n",
        "\n",
        "print(' A quantidade de números pares e múltiplos de 7 foram de: ', q)\n",
        "print(' A soma total dos números pares e múltiplos de 7 é: ', s)"
      ],
      "metadata": {
        "colab": {
          "base_uri": "https://localhost:8080/"
        },
        "id": "bYHRf8O-sLVP",
        "outputId": "eddd12e0-c0cc-4118-a61a-432e0ebc438f"
      },
      "execution_count": null,
      "outputs": [
        {
          "output_type": "stream",
          "name": "stdout",
          "text": [
            " Informe a quantidade de valores que deseja calcular: 5\n",
            " Informe o valor de x: 7\n",
            " Informe o valor de x: 14\n",
            " Informe o valor de x: 21\n",
            " Informe o valor de x: 28\n",
            " Informe o valor de x: 35\n",
            " A quantidade de números pares e múltiplos de 7 foram de:  2\n",
            " A soma total dos números pares e múltiplos de 7 é:  42.0\n"
          ]
        }
      ]
    },
    {
      "cell_type": "code",
      "source": [
        "import random as r\n",
        "\n",
        "n = int(input(' Informe a quantidade de valores que deseja calcular: '))\n",
        "while n <= 0:\n",
        "  print(' Valor inválido: Menor ou igual a zero')\n",
        "  n = int(input(' Informe a quantidade de valores que deseja calcular: '))\n",
        "\n",
        "s = 0\n",
        "q = 0\n",
        "\n",
        "for i in range (1,n+1):\n",
        "  x = r.uniform(1,200)\n",
        "  if x > 50 and x < 70:\n",
        "     s = s + x\n",
        "     q = q + 1\n",
        "if q == 0:\n",
        "  m = 0\n",
        "else:\n",
        "  m = s/q\n",
        "\n",
        "print(' A média dos números entre 50 e 70 é: ', m)"
      ],
      "metadata": {
        "colab": {
          "base_uri": "https://localhost:8080/"
        },
        "id": "KhI5WXUwsxZR",
        "outputId": "1cb9e5f2-766b-4012-d258-32bd6931c862"
      },
      "execution_count": null,
      "outputs": [
        {
          "output_type": "stream",
          "name": "stdout",
          "text": [
            " Informe a quantidade de valores que deseja calcular: 500\n",
            "51.894605937869315\n",
            "62.509003292229096\n",
            "64.0687274976192\n",
            "63.93831202153057\n",
            "60.412977501324896\n",
            "65.37568552920082\n",
            "64.9737995342477\n",
            "58.11279676298821\n",
            "55.51667019805242\n",
            "51.92549355207647\n",
            "53.8234151352124\n",
            "68.4688344331948\n",
            "50.70284120990723\n",
            "62.86046185673356\n",
            "59.588220124058246\n",
            "51.92519259467254\n",
            "65.55727504022508\n",
            "60.462330971030276\n",
            "59.574413428213745\n",
            "62.7067110785588\n",
            "59.22624887537172\n",
            "66.68733607303888\n",
            "69.4811442329741\n",
            "54.97014972962439\n",
            "61.25762513351898\n",
            "68.12737210106361\n",
            "69.77030559766936\n",
            "65.65914325713638\n",
            "59.85988276326606\n",
            "53.98238340592937\n",
            "67.65973653062655\n",
            "64.88213682700913\n",
            "58.899405576633605\n",
            "67.99629224469837\n",
            "61.067841505372876\n",
            "64.38041301685452\n",
            "56.20648436709326\n",
            "66.40541120508325\n",
            "50.602570817012946\n",
            "61.333404267530156\n",
            "58.28906217688649\n",
            "51.10945752614117\n",
            "50.86721959112549\n",
            " A média dos números entre 50 e 70 é:  60.53764638420015\n"
          ]
        }
      ]
    }
  ]
}